{
  "nbformat": 4,
  "nbformat_minor": 0,
  "metadata": {
    "colab": {
      "provenance": [],
      "include_colab_link": true
    },
    "kernelspec": {
      "name": "python3",
      "display_name": "Python 3"
    },
    "language_info": {
      "name": "python"
    }
  },
  "cells": [
    {
      "cell_type": "markdown",
      "metadata": {
        "id": "view-in-github",
        "colab_type": "text"
      },
      "source": [
        "<a href=\"https://colab.research.google.com/github/Shankjbs571/Ciphering/blob/main/vignere_cipher_1.ipynb\" target=\"_parent\"><img src=\"https://colab.research.google.com/assets/colab-badge.svg\" alt=\"Open In Colab\"/></a>"
      ]
    },
    {
      "cell_type": "markdown",
      "source": [],
      "metadata": {
        "id": "M_FCW-_CYPtc"
      }
    },
    {
      "cell_type": "code",
      "source": [
        "def lemoloop(n):\n",
        "  key='lemonade'\n",
        "  return key[n%7]\n",
        "\n",
        "def findindex_w(a):\n",
        "  l='abcdefghijklmnopqrstuvwxyz'\n",
        "  if a!=' ':\n",
        "    # print(\"a!=' '\")\n",
        "    return l.index(a)\n",
        "  elif a==' ':\n",
        "    # print(\"a==' '\")\n",
        "    return 0.1\n",
        "\n",
        "def findindex_d(a):\n",
        "  l='abcdefghijklmnopqrstuvwxyz'\n",
        "  return l.index(a)\n",
        "\n",
        "\n",
        "def indexsum(a,b):\n",
        "  if b==0.1:\n",
        "    return 0.2\n",
        "  else:\n",
        "    return a+b\n",
        "\n",
        "def give_i_of_d(i):\n",
        "  for i in d:\n",
        "    return i\n",
        "\n",
        "def encrypted_letter(s):\n",
        "  l='abcdefghijklmnopqrstuvwxyz'\n",
        "  if s!= 0.2:\n",
        "    # print(\"encry s\",s)\n",
        "    return l[s]\n",
        "  elif s== 0.2:\n",
        "    # print(\"encry elif s\",s)\n",
        "    return ' '\n",
        "\n",
        "p=input('Enter Your Message for Encryption!').lower()\n",
        "w=list(p)\n",
        "# print(\"w\",w)\n",
        "#print(len(w))\n",
        "#key is 'lemonade'\n",
        "\n",
        "d=[]\n",
        "s=[]\n",
        "for i in range(len(w)):\n",
        "  d.append(lemoloop(i))\n",
        "\n",
        "\n",
        "# print(\"d\",d)\n",
        "# print(\"indexsum\",indexsum(findindex_d(d[0]),findindex_w(w[0])))\n",
        "#print(len(d))\n",
        "#e=open('vignereencrypted.txt','a')\n",
        "for i in range(len(d)):\n",
        "  print(encrypted_letter((indexsum(findindex_d(d[i]),findindex_w(w[i])))%26),end='')\n",
        "\n"
      ],
      "metadata": {
        "colab": {
          "base_uri": "https://localhost:8080/"
        },
        "id": "FgK9OctahLlc",
        "outputId": "46229277-ca34-4a65-b588-3fd3bb198dc7"
      },
      "execution_count": 26,
      "outputs": [
        {
          "output_type": "stream",
          "name": "stdout",
          "text": [
            "Enter Your Message for Encryption!feel free to explore notebooks\n",
            "qiqz fupi hb hitxcee ysfsoorvw"
          ]
        }
      ]
    },
    {
      "cell_type": "markdown",
      "source": [
        "DECRYPTION\n"
      ],
      "metadata": {
        "id": "nsCz-MUjQ-lP"
      }
    },
    {
      "cell_type": "code",
      "source": [
        "def lemoloop(n):\n",
        "  key='lemonade'\n",
        "  return key[n%7]\n",
        "\n",
        "def findindex_w(a):\n",
        "  l='abcdefghijklmnopqrstuvwxyz'\n",
        "  if a!=' ':\n",
        "    return l.index(a)\n",
        "  elif a==' ':\n",
        "    return 0.1\n",
        "\n",
        "def findindex_d(a):\n",
        "  l='abcdefghijklmnopqrstuvwxyz'\n",
        "  return l.index(a)\n",
        "\n",
        "\n",
        "def indexsum(a,b):\n",
        "  if b==0.1:\n",
        "    return 0.2\n",
        "  else:\n",
        "    return b-a\n",
        "\n",
        "def give_i_of_d(i):\n",
        "  for i in d:\n",
        "    return i\n",
        "\n",
        "def encrypted_letter(s):\n",
        "  l='abcdefghijklmnopqrstuvwxyz'\n",
        "  if s!=0.2:\n",
        "    return l[s]\n",
        "  elif s==0.2:\n",
        "    return ' '\n",
        "\n",
        "p=input('Enter Your Message for Decryption!').lower()\n",
        "w=list(p)\n",
        "# print(w)\n",
        "#print(len(w))\n",
        "#key is 'lemonade'\n",
        "d=[]\n",
        "s=[]\n",
        "for i in range(len(w)):\n",
        "  d.append(lemoloop(i))\n",
        "\n",
        "#print(d)\n",
        "#print(len(d))\n",
        "#e=open('vignereencrypted.txt','a')\n",
        "for i in range(len(d)):\n",
        "  print(encrypted_letter((indexsum(findindex_d(d[i]),findindex_w(w[i])))%26),end='')"
      ],
      "metadata": {
        "colab": {
          "base_uri": "https://localhost:8080/"
        },
        "id": "URDlfmpSp1_S",
        "outputId": "e4542f0e-e33a-4dec-d72b-e02c328f83f0"
      },
      "execution_count": 27,
      "outputs": [
        {
          "output_type": "stream",
          "name": "stdout",
          "text": [
            "Enter Your Message for Decription!qiqz fupi hb hitxcee ysfsoorvw\n",
            "feel free to explore notebooks"
          ]
        }
      ]
    },
    {
      "cell_type": "markdown",
      "source": [],
      "metadata": {
        "id": "uEs1DkhGrvfG"
      }
    }
  ]
}